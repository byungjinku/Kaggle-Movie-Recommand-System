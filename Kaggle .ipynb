{
 "cells": [
  {
   "cell_type": "code",
   "execution_count": 1,
   "metadata": {},
   "outputs": [],
   "source": [
    "import pandas as pd\n",
    "import numpy as np\n",
    "from ast import literal_eval\n",
    "import warnings;\n",
    "warnings.simplefilter('ignore')"
   ]
  },
  {
   "cell_type": "code",
   "execution_count": 2,
   "metadata": {},
   "outputs": [
    {
     "name": "stdout",
     "output_type": "stream",
     "text": [
      "<class 'pandas.core.frame.DataFrame'>\n",
      "RangeIndex: 45466 entries, 0 to 45465\n",
      "Data columns (total 24 columns):\n",
      " #   Column                 Non-Null Count  Dtype  \n",
      "---  ------                 --------------  -----  \n",
      " 0   adult                  45466 non-null  object \n",
      " 1   belongs_to_collection  4494 non-null   object \n",
      " 2   budget                 45466 non-null  object \n",
      " 3   genres                 45466 non-null  object \n",
      " 4   homepage               7782 non-null   object \n",
      " 5   id                     45466 non-null  object \n",
      " 6   imdb_id                45449 non-null  object \n",
      " 7   original_language      45455 non-null  object \n",
      " 8   original_title         45466 non-null  object \n",
      " 9   overview               44512 non-null  object \n",
      " 10  popularity             45461 non-null  object \n",
      " 11  poster_path            45080 non-null  object \n",
      " 12  production_companies   45463 non-null  object \n",
      " 13  production_countries   45463 non-null  object \n",
      " 14  release_date           45379 non-null  object \n",
      " 15  revenue                45460 non-null  float64\n",
      " 16  runtime                45203 non-null  float64\n",
      " 17  spoken_languages       45460 non-null  object \n",
      " 18  status                 45379 non-null  object \n",
      " 19  tagline                20412 non-null  object \n",
      " 20  title                  45460 non-null  object \n",
      " 21  video                  45460 non-null  object \n",
      " 22  vote_average           45460 non-null  float64\n",
      " 23  vote_count             45460 non-null  float64\n",
      "dtypes: float64(4), object(20)\n",
      "memory usage: 8.3+ MB\n"
     ]
    }
   ],
   "source": [
    "md = pd.read_csv('C:/Users/user/Desktop/인공지능 개발자 양성과정/캐글 영화 추천 시스템/data/movies_metadata.csv')\n",
    "md.info()\n",
    "md = md.drop([19730, 29503, 35587])"
   ]
  },
  {
   "cell_type": "code",
   "execution_count": 3,
   "metadata": {},
   "outputs": [
    {
     "name": "stdout",
     "output_type": "stream",
     "text": [
      "0        [{'id': 16, 'name': 'Animation'}, {'id': 35, '...\n",
      "1        [{'id': 12, 'name': 'Adventure'}, {'id': 14, '...\n",
      "2        [{'id': 10749, 'name': 'Romance'}, {'id': 35, ...\n",
      "3        [{'id': 35, 'name': 'Comedy'}, {'id': 18, 'nam...\n",
      "4                           [{'id': 35, 'name': 'Comedy'}]\n",
      "                               ...                        \n",
      "45461    [{'id': 18, 'name': 'Drama'}, {'id': 10751, 'n...\n",
      "45462                        [{'id': 18, 'name': 'Drama'}]\n",
      "45463    [{'id': 28, 'name': 'Action'}, {'id': 18, 'nam...\n",
      "45464                                                   []\n",
      "45465                                                   []\n",
      "Name: genres, Length: 45463, dtype: object\n",
      "0         [Animation, Comedy, Family]\n",
      "1        [Adventure, Fantasy, Family]\n",
      "2                   [Romance, Comedy]\n",
      "3            [Comedy, Drama, Romance]\n",
      "4                            [Comedy]\n",
      "                     ...             \n",
      "45461                 [Drama, Family]\n",
      "45462                         [Drama]\n",
      "45463       [Action, Drama, Thriller]\n",
      "45464                              []\n",
      "45465                              []\n",
      "Name: genres, Length: 45463, dtype: object\n"
     ]
    }
   ],
   "source": [
    "# genres 추출 여러 요소를 갖는 리스트 형태\n",
    "print(md['genres'])\n",
    "\n",
    "md['genres'] = md['genres'].fillna('[]').apply(literal_eval).apply(lambda x:[i['name']for i in x] if isinstance(x, list) else [])\n",
    "\n",
    "print(md['genres'])"
   ]
  },
  {
   "cell_type": "code",
   "execution_count": 4,
   "metadata": {},
   "outputs": [
    {
     "name": "stdout",
     "output_type": "stream",
     "text": [
      "0    5415.0\n",
      "1    2413.0\n",
      "2      92.0\n",
      "3      34.0\n",
      "4     173.0\n",
      "Name: vote_count, dtype: float64\n",
      "0    7.7\n",
      "1    6.9\n",
      "2    6.5\n",
      "3    6.1\n",
      "4    5.7\n",
      "Name: vote_average, dtype: float64\n",
      "5.244896612406511\n",
      "434.0\n"
     ]
    }
   ],
   "source": [
    "# null 값 제외하고 int 자료형으로 변경 후 평균 구하기 => C\n",
    "\n",
    "print(md['vote_count'].head())\n",
    "print(md['vote_average'].head())\n",
    "\n",
    "vote_counts = md[md['vote_count'].notnull()]['vote_count'].astype('int')\n",
    "vote_averages = md[md['vote_average'].notnull()]['vote_average'].astype('int')\n",
    "C = vote_averages.mean()\n",
    "\n",
    "print(C)\n",
    "\n",
    "# 최소한 95% 이상의 사람의 평점을 받은 영화여야 됨 => m\n",
    "m = vote_counts.quantile(0.95)\n",
    "print(m)"
   ]
  },
  {
   "cell_type": "code",
   "execution_count": 5,
   "metadata": {},
   "outputs": [
    {
     "name": "stdout",
     "output_type": "stream",
     "text": [
      "0        1995-10-30\n",
      "1        1995-12-15\n",
      "2        1995-12-22\n",
      "3        1995-12-22\n",
      "4        1995-02-10\n",
      "            ...    \n",
      "45461           NaN\n",
      "45462    2011-11-17\n",
      "45463    2003-08-01\n",
      "45464    1917-10-21\n",
      "45465    2017-06-09\n",
      "Name: release_date, Length: 45463, dtype: object\n",
      "0        1995\n",
      "1        1995\n",
      "2        1995\n",
      "3        1995\n",
      "4        1995\n",
      "         ... \n",
      "45461     NaT\n",
      "45462    2011\n",
      "45463    2003\n",
      "45464    1917\n",
      "45465    2017\n",
      "Name: year, Length: 45463, dtype: object\n"
     ]
    }
   ],
   "source": [
    "# 년도만 추출\n",
    "print(md['release_date'])\n",
    "\n",
    "md['year'] = pd.to_datetime(md['release_date'], errors = 'coerce').apply(lambda x: str(x).split('-')[0] if x != np.nan else np.nan)\n",
    "\n",
    "print(md['year'])"
   ]
  },
  {
   "cell_type": "code",
   "execution_count": 6,
   "metadata": {},
   "outputs": [
    {
     "name": "stdout",
     "output_type": "stream",
     "text": [
      "(45463, 25)\n",
      "(2274, 6)\n"
     ]
    }
   ],
   "source": [
    "# 평점 count 434 이상 & null 값 아닌 데이터셋 추출\n",
    "print (md.shape)\n",
    "qualified = md[(md['vote_count'] >= m) & \n",
    "(md['vote_count'].notnull()) & \n",
    "(md['vote_average'].notnull())][['title', 'year', \n",
    "'vote_count', 'vote_average', 'popularity', 'genres']] \n",
    "qualified['vote_count'] = qualified['vote_count'].astype('int') \n",
    "qualified['vote_average'] = qualified['vote_average'].astype('int')\n",
    "\n",
    "print(qualified.shape)\n",
    "\n"
   ]
  },
  {
   "cell_type": "code",
   "execution_count": 7,
   "metadata": {},
   "outputs": [
    {
     "name": "stdout",
     "output_type": "stream",
     "text": [
      "                                                   title  year  vote_count  \\\n",
      "15480                                          Inception  2010       14075   \n",
      "12481                                    The Dark Knight  2008       12269   \n",
      "22879                                       Interstellar  2014       11187   \n",
      "2843                                          Fight Club  1999        9678   \n",
      "4863   The Lord of the Rings: The Fellowship of the Ring  2001        8892   \n",
      "292                                         Pulp Fiction  1994        8670   \n",
      "314                             The Shawshank Redemption  1994        8358   \n",
      "7000       The Lord of the Rings: The Return of the King  2003        8226   \n",
      "351                                         Forrest Gump  1994        8147   \n",
      "5814               The Lord of the Rings: The Two Towers  2002        7641   \n",
      "256                                            Star Wars  1977        6778   \n",
      "1225                                  Back to the Future  1985        6239   \n",
      "834                                        The Godfather  1972        6024   \n",
      "1154                             The Empire Strikes Back  1980        5998   \n",
      "46                                                 Se7en  1995        5915   \n",
      "\n",
      "       vote_average popularity  \\\n",
      "15480             8    29.1081   \n",
      "12481             8    123.167   \n",
      "22879             8    32.2135   \n",
      "2843              8    63.8696   \n",
      "4863              8    32.0707   \n",
      "292               8     140.95   \n",
      "314               8    51.6454   \n",
      "7000              8    29.3244   \n",
      "351               8    48.3072   \n",
      "5814              8    29.4235   \n",
      "256               8    42.1497   \n",
      "1225              8    25.7785   \n",
      "834               8    41.1093   \n",
      "1154              8     19.471   \n",
      "46                8    18.4574   \n",
      "\n",
      "                                                  genres        wr  \n",
      "15480  [Action, Thriller, Science Fiction, Mystery, A...  7.917588  \n",
      "12481                   [Drama, Action, Crime, Thriller]  7.905871  \n",
      "22879                [Adventure, Drama, Science Fiction]  7.897107  \n",
      "2843                                             [Drama]  7.881753  \n",
      "4863                        [Adventure, Fantasy, Action]  7.871787  \n",
      "292                                    [Thriller, Crime]  7.868660  \n",
      "314                                       [Drama, Crime]  7.864000  \n",
      "7000                        [Adventure, Fantasy, Action]  7.861927  \n",
      "351                             [Comedy, Drama, Romance]  7.860656  \n",
      "5814                        [Adventure, Fantasy, Action]  7.851924  \n",
      "256                 [Adventure, Action, Science Fiction]  7.834205  \n",
      "1225        [Adventure, Comedy, Science Fiction, Family]  7.820813  \n",
      "834                                       [Drama, Crime]  7.814847  \n",
      "1154                [Adventure, Action, Science Fiction]  7.814099  \n",
      "46                            [Crime, Mystery, Thriller]  7.811669  \n"
     ]
    }
   ],
   "source": [
    "# weighted rating 구하는 함수\n",
    "def weighted_rating(x):\n",
    "    v = x['vote_count']\n",
    "    R = x['vote_average']\n",
    "    return (v/(v+m) * R) + (m/(m+v) * C)\n",
    "\n",
    "qualified['wr'] = qualified.apply(weighted_rating, axis=1) \n",
    "qualified = qualified.sort_values('wr', ascending=False).head(250)\n",
    "\n",
    "print(qualified.head(15))\n"
   ]
  },
  {
   "cell_type": "code",
   "execution_count": 8,
   "metadata": {},
   "outputs": [
    {
     "name": "stdout",
     "output_type": "stream",
     "text": [
      "0        Animation\n",
      "0           Comedy\n",
      "0           Family\n",
      "1        Adventure\n",
      "1          Fantasy\n",
      "           ...    \n",
      "45461       Family\n",
      "45462        Drama\n",
      "45463       Action\n",
      "45463        Drama\n",
      "45463     Thriller\n",
      "Name: genre, Length: 91094, dtype: object\n",
      "               title  vote_average  vote_count  year      genre\n",
      "0          Toy Story           7.7      5415.0  1995  Animation\n",
      "0          Toy Story           7.7      5415.0  1995     Comedy\n",
      "0          Toy Story           7.7      5415.0  1995     Family\n",
      "1            Jumanji           6.9      2413.0  1995  Adventure\n",
      "1            Jumanji           6.9      2413.0  1995    Fantasy\n",
      "1            Jumanji           6.9      2413.0  1995     Family\n",
      "2   Grumpier Old Men           6.5        92.0  1995    Romance\n",
      "2   Grumpier Old Men           6.5        92.0  1995     Comedy\n",
      "3  Waiting to Exhale           6.1        34.0  1995     Comedy\n",
      "3  Waiting to Exhale           6.1        34.0  1995      Drama\n"
     ]
    }
   ],
   "source": [
    "# genre를 melting 형태로 변경, md와 join\n",
    "s = md.apply(lambda x: \n",
    "pd.Series(x['genres']),axis=1).stack().reset_index(level=1, \n",
    "drop=True)\n",
    "s.name = 'genre'\n",
    "print(s)\n",
    "\n",
    "gen_md = md.drop('genres', axis=1).join(s) \n",
    "\n",
    "print(gen_md.head(10)[['title', 'vote_average', 'vote_count', 'year','genre']])\n"
   ]
  },
  {
   "cell_type": "code",
   "execution_count": 12,
   "metadata": {},
   "outputs": [
    {
     "name": "stdout",
     "output_type": "stream",
     "text": [
      "                             title  year  vote_count  vote_average popularity  \\\n",
      "10309  Dilwale Dulhania Le Jayenge  1995         661             9     34.457   \n",
      "351                   Forrest Gump  1994        8147             8    48.3072   \n",
      "876                        Vertigo  1958        1162             8    18.2082   \n",
      "40251                   Your Name.  2016        1030             8  34.461252   \n",
      "883               Some Like It Hot  1959         835             8    11.8451   \n",
      "1132               Cinema Paradiso  1988         834             8     14.177   \n",
      "19901                     Paperman  2012         734             8    7.19863   \n",
      "37863                  Sing Street  2016         669             8  10.672862   \n",
      "882                  The Apartment  1960         498             8    11.9943   \n",
      "38718               The Handmaiden  2016         453             8  16.727405   \n",
      "3189                   City Lights  1931         444             8    10.8915   \n",
      "24886             The Way He Looks  2014         262             8    5.71127   \n",
      "45437               In a Heartbeat  2017         146             8   20.82178   \n",
      "1639                       Titanic  1997        7770             7    26.8891   \n",
      "19731      Silver Linings Playbook  2012        4840             7    14.4881   \n",
      "\n",
      "             wr  \n",
      "10309  8.565285  \n",
      "351    7.971357  \n",
      "876    7.811667  \n",
      "40251  7.789489  \n",
      "883    7.745154  \n",
      "1132   7.744878  \n",
      "19901  7.713951  \n",
      "37863  7.689483  \n",
      "882    7.599317  \n",
      "38718  7.566166  \n",
      "3189   7.558867  \n",
      "24886  7.331363  \n",
      "45437  7.003959  \n",
      "1639   6.981546  \n",
      "19731  6.970581  \n"
     ]
    }
   ],
   "source": [
    "# 장르, 퍼센트 옵션 추가\n",
    "def build_chart(genre, percentile=0.85):\n",
    "    df = gen_md[gen_md['genre'] == genre]\n",
    "    vote_counts = df[df['vote_count'].notnull()]['vote_count'].astype('int')\n",
    "    vote_averages = df[df['vote_average'].notnull()]['vote_average'].astype('int')\n",
    "    C = vote_averages.mean()\n",
    "    m = vote_counts.quantile(percentile)\n",
    "    \n",
    "    qualified = df[(df['vote_count'] >= m) & (df['vote_count'].notnull()) & (df['vote_average'].notnull())][['title', 'year', 'vote_count', 'vote_average', 'popularity']] \n",
    "    qualified['vote_count'] = qualified['vote_count'].astype('int') \n",
    "    qualified['vote_average'] = qualified['vote_average'].astype('int')\n",
    "    qualified['wr'] = qualified.apply(lambda x: (x['vote_count'] / (x['vote_count'] + m) * x['vote_average']) + (m / (m + x['vote_count']) * C), axis=1)\n",
    "    qualified = qualified.sort_values('wr', ascending=False).head(250)\n",
    "    \n",
    "    return qualified \n",
    "print(build_chart('Romance').head(15))\n"
   ]
  },
  {
   "cell_type": "code",
   "execution_count": 18,
   "metadata": {},
   "outputs": [
    {
     "name": "stdout",
     "output_type": "stream",
     "text": [
      "   movieId  imdbId   tmdbId\n",
      "0        1  114709    862.0\n",
      "1        2  113497   8844.0\n",
      "2        3  113228  15602.0\n",
      "3        4  114885  31357.0\n",
      "4        5  113041  11862.0\n"
     ]
    }
   ],
   "source": [
    "links_small = pd.read_csv('C:/Users/user/Desktop/인공지능 개발자 양성과정/캐글 영화 추천 시스템/data/links_small.csv')\n",
    "print(links_small.head())\n",
    "\n"
   ]
  },
  {
   "cell_type": "code",
   "execution_count": 22,
   "metadata": {},
   "outputs": [
    {
     "name": "stdout",
     "output_type": "stream",
     "text": [
      "(9099, 25)\n"
     ]
    }
   ],
   "source": [
    "# small data 사용\n",
    "links_small = links_small[links_small['tmdbId'].notnull()]['tmdbId'].astype('int')\n",
    "\n",
    "md['id'] = md['id'].astype('int')\n",
    "\n",
    "smd2 = md[md['id'].isin(links_small)] \n",
    "print(smd2.shape)"
   ]
  },
  {
   "cell_type": "code",
   "execution_count": 23,
   "metadata": {},
   "outputs": [
    {
     "name": "stdout",
     "output_type": "stream",
     "text": [
      "                                             description\n",
      "0      Led by Woody, Andy's toys live happily in his ...\n",
      "1      When siblings Judy and Peter discover an encha...\n",
      "2      A family wedding reignites the ancient feud be...\n",
      "3      Cheated on, mistreated and stepped on, the wom...\n",
      "4      Just when George Banks has recovered from his ...\n",
      "...                                                  ...\n",
      "40224  From the mind behind Evangelion comes a hit la...\n",
      "40503  The band stormed Europe in 1963, and, in 1964,...\n",
      "44821  When Molly Hale's sadness of her father's disa...\n",
      "44826  All your favorite Pokémon characters are back,...\n",
      "45265  While holidaying in the French Alps, a Swedish...\n",
      "\n",
      "[9099 rows x 1 columns]\n"
     ]
    }
   ],
   "source": [
    "# 영화 text 정보 column 생성 \n",
    "smd2['tagline'] = smd2['tagline'].fillna('') \n",
    "smd2['description'] = smd2['overview'] + smd2['tagline']\n",
    "smd2['description'] = smd2['description'].fillna('') \n",
    "print(smd2[['description']])"
   ]
  },
  {
   "cell_type": "code",
   "execution_count": 29,
   "metadata": {},
   "outputs": [],
   "source": [
    "from sklearn.feature_extraction.text import TfidfVectorizer\n",
    "from sklearn.metrics.pairwise import linear_kernel, cosine_similarity "
   ]
  },
  {
   "cell_type": "code",
   "execution_count": 41,
   "metadata": {},
   "outputs": [
    {
     "name": "stdout",
     "output_type": "stream",
     "text": [
      "(9099, 268124)\n"
     ]
    }
   ],
   "source": [
    "# tfidf 적용\n",
    "tf = TfidfVectorizer(analyzer='word',ngram_range=(1, 2),min_df=0, stop_words='english')\n",
    "tfidf_matrix = tf.fit_transform(smd2['description'])\n",
    "print(tfidf_matrix.shape)"
   ]
  },
  {
   "cell_type": "code",
   "execution_count": 43,
   "metadata": {},
   "outputs": [
    {
     "name": "stdout",
     "output_type": "stream",
     "text": [
      "[[1.         0.00680476 0.         ... 0.         0.00344913 0.        ]\n",
      " [0.00680476 1.         0.01531062 ... 0.00357057 0.00762326 0.        ]\n",
      " [0.         0.01531062 1.         ... 0.         0.00286535 0.00472155]\n",
      " ...\n",
      " [0.         0.00357057 0.         ... 1.         0.07811616 0.        ]\n",
      " [0.00344913 0.00762326 0.00286535 ... 0.07811616 1.         0.        ]\n",
      " [0.         0.         0.00472155 ... 0.         0.         1.        ]]\n",
      "title\n",
      "Toy Story                                                0\n",
      "Jumanji                                                  1\n",
      "Grumpier Old Men                                         2\n",
      "Waiting to Exhale                                        3\n",
      "Father of the Bride Part II                              4\n",
      "                                                      ... \n",
      "Shin Godzilla                                         9094\n",
      "The Beatles: Eight Days a Week - The Touring Years    9095\n",
      "Pokémon: Spell of the Unknown                         9096\n",
      "Pokémon 4Ever: Celebi - Voice of the Forest           9097\n",
      "Force Majeure                                         9098\n",
      "Length: 9099, dtype: int64\n"
     ]
    }
   ],
   "source": [
    "cosine_sim = linear_kernel(tfidf_matrix, tfidf_matrix)\n",
    "\n",
    "print(cosine_sim)\n",
    "\n",
    "smd2 = smd2.reset_index() \n",
    "titles = smd2['title']\n",
    "indices = pd.Series(smd2.index, index=smd2['title']) \n",
    "print(indices)"
   ]
  },
  {
   "cell_type": "code",
   "execution_count": 56,
   "metadata": {},
   "outputs": [
    {
     "ename": "ValueError",
     "evalue": "cannot insert level_0, already exists",
     "output_type": "error",
     "traceback": [
      "\u001b[1;31m---------------------------------------------------------------------------\u001b[0m",
      "\u001b[1;31mValueError\u001b[0m                                Traceback (most recent call last)",
      "\u001b[1;32m<ipython-input-56-545f22ef797e>\u001b[0m in \u001b[0;36m<module>\u001b[1;34m\u001b[0m\n\u001b[0;32m     15\u001b[0m     \u001b[1;32mreturn\u001b[0m \u001b[0msmd2\u001b[0m\u001b[1;33m.\u001b[0m\u001b[0miloc\u001b[0m\u001b[1;33m[\u001b[0m\u001b[0mmovie_indices\u001b[0m\u001b[1;33m]\u001b[0m\u001b[1;33m[\u001b[0m\u001b[1;33m[\u001b[0m\u001b[1;34m'title'\u001b[0m\u001b[1;33m,\u001b[0m \u001b[1;34m'vote_count'\u001b[0m\u001b[1;33m,\u001b[0m\u001b[1;34m'vote_average'\u001b[0m\u001b[1;33m,\u001b[0m \u001b[1;34m'year'\u001b[0m\u001b[1;33m]\u001b[0m\u001b[1;33m]\u001b[0m\u001b[1;33m\u001b[0m\u001b[1;33m\u001b[0m\u001b[0m\n\u001b[0;32m     16\u001b[0m \u001b[1;33m\u001b[0m\u001b[0m\n\u001b[1;32m---> 17\u001b[1;33m \u001b[0mprint\u001b[0m\u001b[1;33m(\u001b[0m\u001b[0mget_recommendations_based_description\u001b[0m\u001b[1;33m(\u001b[0m\u001b[1;34m'Toy Story'\u001b[0m\u001b[1;33m,\u001b[0m \u001b[0msmd2\u001b[0m\u001b[1;33m)\u001b[0m\u001b[1;33m.\u001b[0m\u001b[0mhead\u001b[0m\u001b[1;33m(\u001b[0m\u001b[1;36m10\u001b[0m\u001b[1;33m)\u001b[0m\u001b[1;33m)\u001b[0m\u001b[1;33m\u001b[0m\u001b[1;33m\u001b[0m\u001b[0m\n\u001b[0m",
      "\u001b[1;32m<ipython-input-56-545f22ef797e>\u001b[0m in \u001b[0;36mget_recommendations_based_description\u001b[1;34m(title, smd2)\u001b[0m\n\u001b[0;32m      6\u001b[0m     \u001b[0mcosine_sim\u001b[0m \u001b[1;33m=\u001b[0m \u001b[0mlinear_kernel\u001b[0m\u001b[1;33m(\u001b[0m\u001b[0mtfidf_matrix\u001b[0m\u001b[1;33m,\u001b[0m \u001b[0mtfidf_matrix\u001b[0m\u001b[1;33m)\u001b[0m\u001b[1;33m\u001b[0m\u001b[1;33m\u001b[0m\u001b[0m\n\u001b[0;32m      7\u001b[0m \u001b[1;33m\u001b[0m\u001b[0m\n\u001b[1;32m----> 8\u001b[1;33m     \u001b[0msmd2\u001b[0m \u001b[1;33m=\u001b[0m \u001b[0msmd2\u001b[0m\u001b[1;33m.\u001b[0m\u001b[0mreset_index\u001b[0m\u001b[1;33m(\u001b[0m\u001b[1;33m)\u001b[0m\u001b[1;33m\u001b[0m\u001b[1;33m\u001b[0m\u001b[0m\n\u001b[0m\u001b[0;32m      9\u001b[0m     \u001b[0mindices\u001b[0m \u001b[1;33m=\u001b[0m \u001b[0mpd\u001b[0m\u001b[1;33m.\u001b[0m\u001b[0mSeries\u001b[0m\u001b[1;33m(\u001b[0m\u001b[0msmd2\u001b[0m\u001b[1;33m.\u001b[0m\u001b[0mindex\u001b[0m\u001b[1;33m,\u001b[0m \u001b[0mindex\u001b[0m\u001b[1;33m=\u001b[0m\u001b[0msmd2\u001b[0m\u001b[1;33m[\u001b[0m\u001b[1;34m'title'\u001b[0m\u001b[1;33m]\u001b[0m\u001b[1;33m)\u001b[0m\u001b[1;33m\u001b[0m\u001b[1;33m\u001b[0m\u001b[0m\n\u001b[0;32m     10\u001b[0m     \u001b[0midx\u001b[0m \u001b[1;33m=\u001b[0m \u001b[0mindices\u001b[0m\u001b[1;33m[\u001b[0m\u001b[0mtitle\u001b[0m\u001b[1;33m]\u001b[0m\u001b[1;33m\u001b[0m\u001b[1;33m\u001b[0m\u001b[0m\n",
      "\u001b[1;32m~\\anaconda3\\lib\\site-packages\\pandas\\core\\frame.py\u001b[0m in \u001b[0;36mreset_index\u001b[1;34m(self, level, drop, inplace, col_level, col_fill)\u001b[0m\n\u001b[0;32m   4602\u001b[0m                 \u001b[1;31m# to ndarray and maybe infer different dtype\u001b[0m\u001b[1;33m\u001b[0m\u001b[1;33m\u001b[0m\u001b[1;33m\u001b[0m\u001b[0m\n\u001b[0;32m   4603\u001b[0m                 \u001b[0mlevel_values\u001b[0m \u001b[1;33m=\u001b[0m \u001b[0m_maybe_casted_values\u001b[0m\u001b[1;33m(\u001b[0m\u001b[0mlev\u001b[0m\u001b[1;33m,\u001b[0m \u001b[0mlab\u001b[0m\u001b[1;33m)\u001b[0m\u001b[1;33m\u001b[0m\u001b[1;33m\u001b[0m\u001b[0m\n\u001b[1;32m-> 4604\u001b[1;33m                 \u001b[0mnew_obj\u001b[0m\u001b[1;33m.\u001b[0m\u001b[0minsert\u001b[0m\u001b[1;33m(\u001b[0m\u001b[1;36m0\u001b[0m\u001b[1;33m,\u001b[0m \u001b[0mname\u001b[0m\u001b[1;33m,\u001b[0m \u001b[0mlevel_values\u001b[0m\u001b[1;33m)\u001b[0m\u001b[1;33m\u001b[0m\u001b[1;33m\u001b[0m\u001b[0m\n\u001b[0m\u001b[0;32m   4605\u001b[0m \u001b[1;33m\u001b[0m\u001b[0m\n\u001b[0;32m   4606\u001b[0m         \u001b[0mnew_obj\u001b[0m\u001b[1;33m.\u001b[0m\u001b[0mindex\u001b[0m \u001b[1;33m=\u001b[0m \u001b[0mnew_index\u001b[0m\u001b[1;33m\u001b[0m\u001b[1;33m\u001b[0m\u001b[0m\n",
      "\u001b[1;32m~\\anaconda3\\lib\\site-packages\\pandas\\core\\frame.py\u001b[0m in \u001b[0;36minsert\u001b[1;34m(self, loc, column, value, allow_duplicates)\u001b[0m\n\u001b[0;32m   3494\u001b[0m         \u001b[0mself\u001b[0m\u001b[1;33m.\u001b[0m\u001b[0m_ensure_valid_index\u001b[0m\u001b[1;33m(\u001b[0m\u001b[0mvalue\u001b[0m\u001b[1;33m)\u001b[0m\u001b[1;33m\u001b[0m\u001b[1;33m\u001b[0m\u001b[0m\n\u001b[0;32m   3495\u001b[0m         \u001b[0mvalue\u001b[0m \u001b[1;33m=\u001b[0m \u001b[0mself\u001b[0m\u001b[1;33m.\u001b[0m\u001b[0m_sanitize_column\u001b[0m\u001b[1;33m(\u001b[0m\u001b[0mcolumn\u001b[0m\u001b[1;33m,\u001b[0m \u001b[0mvalue\u001b[0m\u001b[1;33m,\u001b[0m \u001b[0mbroadcast\u001b[0m\u001b[1;33m=\u001b[0m\u001b[1;32mFalse\u001b[0m\u001b[1;33m)\u001b[0m\u001b[1;33m\u001b[0m\u001b[1;33m\u001b[0m\u001b[0m\n\u001b[1;32m-> 3496\u001b[1;33m         \u001b[0mself\u001b[0m\u001b[1;33m.\u001b[0m\u001b[0m_data\u001b[0m\u001b[1;33m.\u001b[0m\u001b[0minsert\u001b[0m\u001b[1;33m(\u001b[0m\u001b[0mloc\u001b[0m\u001b[1;33m,\u001b[0m \u001b[0mcolumn\u001b[0m\u001b[1;33m,\u001b[0m \u001b[0mvalue\u001b[0m\u001b[1;33m,\u001b[0m \u001b[0mallow_duplicates\u001b[0m\u001b[1;33m=\u001b[0m\u001b[0mallow_duplicates\u001b[0m\u001b[1;33m)\u001b[0m\u001b[1;33m\u001b[0m\u001b[1;33m\u001b[0m\u001b[0m\n\u001b[0m\u001b[0;32m   3497\u001b[0m \u001b[1;33m\u001b[0m\u001b[0m\n\u001b[0;32m   3498\u001b[0m     \u001b[1;32mdef\u001b[0m \u001b[0massign\u001b[0m\u001b[1;33m(\u001b[0m\u001b[0mself\u001b[0m\u001b[1;33m,\u001b[0m \u001b[1;33m**\u001b[0m\u001b[0mkwargs\u001b[0m\u001b[1;33m)\u001b[0m \u001b[1;33m->\u001b[0m \u001b[1;34m\"DataFrame\"\u001b[0m\u001b[1;33m:\u001b[0m\u001b[1;33m\u001b[0m\u001b[1;33m\u001b[0m\u001b[0m\n",
      "\u001b[1;32m~\\anaconda3\\lib\\site-packages\\pandas\\core\\internals\\managers.py\u001b[0m in \u001b[0;36minsert\u001b[1;34m(self, loc, item, value, allow_duplicates)\u001b[0m\n\u001b[0;32m   1171\u001b[0m         \u001b[1;32mif\u001b[0m \u001b[1;32mnot\u001b[0m \u001b[0mallow_duplicates\u001b[0m \u001b[1;32mand\u001b[0m \u001b[0mitem\u001b[0m \u001b[1;32min\u001b[0m \u001b[0mself\u001b[0m\u001b[1;33m.\u001b[0m\u001b[0mitems\u001b[0m\u001b[1;33m:\u001b[0m\u001b[1;33m\u001b[0m\u001b[1;33m\u001b[0m\u001b[0m\n\u001b[0;32m   1172\u001b[0m             \u001b[1;31m# Should this be a different kind of error??\u001b[0m\u001b[1;33m\u001b[0m\u001b[1;33m\u001b[0m\u001b[1;33m\u001b[0m\u001b[0m\n\u001b[1;32m-> 1173\u001b[1;33m             \u001b[1;32mraise\u001b[0m \u001b[0mValueError\u001b[0m\u001b[1;33m(\u001b[0m\u001b[1;34mf\"cannot insert {item}, already exists\"\u001b[0m\u001b[1;33m)\u001b[0m\u001b[1;33m\u001b[0m\u001b[1;33m\u001b[0m\u001b[0m\n\u001b[0m\u001b[0;32m   1174\u001b[0m \u001b[1;33m\u001b[0m\u001b[0m\n\u001b[0;32m   1175\u001b[0m         \u001b[1;32mif\u001b[0m \u001b[1;32mnot\u001b[0m \u001b[0misinstance\u001b[0m\u001b[1;33m(\u001b[0m\u001b[0mloc\u001b[0m\u001b[1;33m,\u001b[0m \u001b[0mint\u001b[0m\u001b[1;33m)\u001b[0m\u001b[1;33m:\u001b[0m\u001b[1;33m\u001b[0m\u001b[1;33m\u001b[0m\u001b[0m\n",
      "\u001b[1;31mValueError\u001b[0m: cannot insert level_0, already exists"
     ]
    }
   ],
   "source": [
    "# 영화 제목이 들어오면 해당 열에서 가장 유사도 높은 순으로 정렬 후 인덱스 뽑기\n",
    "# contents based recommender\n",
    "def get_recommendations_based_description(title, smd2):\n",
    "    tf = TfidfVectorizer(analyzer='word', ngram_range=(1,2), min_df=0, stop_words='english')\n",
    "    tfidf_matrix = tf.fit_transform(smd2['description']) \n",
    "    cosine_sim = linear_kernel(tfidf_matrix, tfidf_matrix)\n",
    "    \n",
    "    smd2 = smd2.reset_index()\n",
    "    indices = pd.Series(smd2.index, index=smd2['title']) \n",
    "    idx = indices[title]\n",
    "    sim_scores = list(enumerate(cosine_sim[idx]))\n",
    "    sim_scores = sorted(sim_scores, key=lambda x: x[1], reverse=True)\n",
    "    sim_scores = sim_scores[1:31] \n",
    "    movie_indices = [i[0] for i in sim_scores]\n",
    "    return smd2.iloc[movie_indices][['title', 'vote_count','vote_average', 'year']]\n",
    "\n",
    "print(get_recommendations_based_description('Toy Story', smd2).head(10))\n"
   ]
  },
  {
   "cell_type": "code",
   "execution_count": null,
   "metadata": {},
   "outputs": [],
   "source": []
  }
 ],
 "metadata": {
  "kernelspec": {
   "display_name": "Python 3",
   "language": "python",
   "name": "python3"
  },
  "language_info": {
   "codemirror_mode": {
    "name": "ipython",
    "version": 3
   },
   "file_extension": ".py",
   "mimetype": "text/x-python",
   "name": "python",
   "nbconvert_exporter": "python",
   "pygments_lexer": "ipython3",
   "version": "3.7.7"
  }
 },
 "nbformat": 4,
 "nbformat_minor": 4
}
